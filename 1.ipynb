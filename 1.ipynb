{
  "nbformat": 4,
  "nbformat_minor": 0,
  "metadata": {
    "colab": {
      "name": "test.ipynb",
      "provenance": [],
      "collapsed_sections": []
    },
    "kernelspec": {
      "name": "python3",
      "display_name": "Python 3"
    },
    "language_info": {
      "name": "python"
    }
  },
  "cells": [
    {
      "cell_type": "markdown",
      "metadata": {
        "id": "FSdhkqRRKnEX"
      },
      "source": [
        "**Задание по программированию: Преобработка данных в Pandas**\n"
      ]
    },
    {
      "cell_type": "code",
      "metadata": {
        "id": "y-zJZRLj-4nY"
      },
      "source": [
        "import pandas"
      ],
      "execution_count": 2,
      "outputs": []
    },
    {
      "cell_type": "code",
      "metadata": {
        "id": "oVW1SCBA-6ZY"
      },
      "source": [
        "data = pandas.read_csv('titanic.csv', index_col='PassengerId')"
      ],
      "execution_count": 3,
      "outputs": []
    },
    {
      "cell_type": "markdown",
      "metadata": {
        "id": "ibNooUAgLJ6W"
      },
      "source": [
        "\n",
        "1) Какое количество мужчин и женщин ехало на корабле? В качестве ответа приведите два числа через пробел."
      ]
    },
    {
      "cell_type": "code",
      "metadata": {
        "colab": {
          "base_uri": "https://localhost:8080/"
        },
        "id": "743zmc0EAhw6",
        "outputId": "a616137f-c9e2-427e-d78f-a14db9c51a63"
      },
      "source": [
        "data[\"Sex\"].value_counts()"
      ],
      "execution_count": 4,
      "outputs": [
        {
          "output_type": "execute_result",
          "data": {
            "text/plain": [
              "male      577\n",
              "female    314\n",
              "Name: Sex, dtype: int64"
            ]
          },
          "metadata": {},
          "execution_count": 4
        }
      ]
    },
    {
      "cell_type": "markdown",
      "metadata": {
        "id": "mF-7-x0CLtVQ"
      },
      "source": [
        "\n",
        "2) Какой части пассажиров удалось выжить? Посчитайте долю выживших пассажиров. Ответ приведите в процентах (число в интервале от 0 до 100, знак процента не нужен), округлив до двух знаков."
      ]
    },
    {
      "cell_type": "code",
      "metadata": {
        "colab": {
          "base_uri": "https://localhost:8080/"
        },
        "id": "_He7tJtILvtu",
        "outputId": "a43c6d9f-1220-41d6-ed0c-9b5955f9700a"
      },
      "source": [
        "data['Survived'].value_counts()[1]/data.shape[0] * 100"
      ],
      "execution_count": 7,
      "outputs": [
        {
          "output_type": "execute_result",
          "data": {
            "text/plain": [
              "38.38383838383838"
            ]
          },
          "metadata": {},
          "execution_count": 7
        }
      ]
    },
    {
      "cell_type": "markdown",
      "metadata": {
        "id": "qbcOMJonLyAO"
      },
      "source": [
        "3) Какую долю пассажиры первого класса составляли среди всех пассажиров? Ответ приведите в процентах (число в интервале от 0 до 100, знак процента не нужен), округлив до двух знаков."
      ]
    },
    {
      "cell_type": "code",
      "metadata": {
        "colab": {
          "base_uri": "https://localhost:8080/"
        },
        "id": "BlxjT66CBMtB",
        "outputId": "0b65c5f9-f27c-45ce-ae73-b40796134df4"
      },
      "source": [
        "data['Pclass'].value_counts()[1]/data.shape[0] * 100"
      ],
      "execution_count": 9,
      "outputs": [
        {
          "output_type": "execute_result",
          "data": {
            "text/plain": [
              "24.242424242424242"
            ]
          },
          "metadata": {},
          "execution_count": 9
        }
      ]
    },
    {
      "cell_type": "markdown",
      "metadata": {
        "id": "T2yOj_30MC3x"
      },
      "source": [
        "\n",
        "4) Какого возраста были пассажиры? Посчитайте среднее и медиану возраста пассажиров. В качестве ответа приведите два числа через пробел."
      ]
    },
    {
      "cell_type": "code",
      "metadata": {
        "colab": {
          "base_uri": "https://localhost:8080/"
        },
        "id": "ef2xGY2jB4bZ",
        "outputId": "beb0c0af-8cd8-4795-a605-8df1639ea721"
      },
      "source": [
        "data[\"Age\"].median(axis=0)"
      ],
      "execution_count": 5,
      "outputs": [
        {
          "output_type": "execute_result",
          "data": {
            "text/plain": [
              "28.0"
            ]
          },
          "metadata": {},
          "execution_count": 5
        }
      ]
    },
    {
      "cell_type": "markdown",
      "metadata": {
        "id": "VMXl6ICxMHnV"
      },
      "source": [
        "\n",
        "5) Коррелируют ли число братьев/сестер с числом родителей/детей?Посчитайте корреляцию Пирсона между признаками SibSp и Parch."
      ]
    },
    {
      "cell_type": "code",
      "metadata": {
        "id": "zLBpC0VVDGNK",
        "colab": {
          "base_uri": "https://localhost:8080/",
          "height": 110
        },
        "outputId": "260010cc-1901-45de-b45b-8049ff9bca90"
      },
      "source": [
        "df = data[['SibSp', 'Parch']]\n",
        "df.corr(method='pearson')"
      ],
      "execution_count": 10,
      "outputs": [
        {
          "output_type": "execute_result",
          "data": {
            "text/html": [
              "<div>\n",
              "<style scoped>\n",
              "    .dataframe tbody tr th:only-of-type {\n",
              "        vertical-align: middle;\n",
              "    }\n",
              "\n",
              "    .dataframe tbody tr th {\n",
              "        vertical-align: top;\n",
              "    }\n",
              "\n",
              "    .dataframe thead th {\n",
              "        text-align: right;\n",
              "    }\n",
              "</style>\n",
              "<table border=\"1\" class=\"dataframe\">\n",
              "  <thead>\n",
              "    <tr style=\"text-align: right;\">\n",
              "      <th></th>\n",
              "      <th>SibSp</th>\n",
              "      <th>Parch</th>\n",
              "    </tr>\n",
              "  </thead>\n",
              "  <tbody>\n",
              "    <tr>\n",
              "      <th>SibSp</th>\n",
              "      <td>1.000000</td>\n",
              "      <td>0.414838</td>\n",
              "    </tr>\n",
              "    <tr>\n",
              "      <th>Parch</th>\n",
              "      <td>0.414838</td>\n",
              "      <td>1.000000</td>\n",
              "    </tr>\n",
              "  </tbody>\n",
              "</table>\n",
              "</div>"
            ],
            "text/plain": [
              "          SibSp     Parch\n",
              "SibSp  1.000000  0.414838\n",
              "Parch  0.414838  1.000000"
            ]
          },
          "metadata": {},
          "execution_count": 10
        }
      ]
    },
    {
      "cell_type": "markdown",
      "metadata": {
        "id": "Qw22_kATMMWS"
      },
      "source": [
        "\n",
        "6) Какое самое популярное женское имя на корабле? Извлеките из полного имени пассажира (колонка Name) его личное имя (First Name). Это задание — типичный пример того, с чем сталкивается специалист по анализу данных. Данные очень разнородные и шумные, но из них требуется извлечь необходимую информацию. Попробуйте вручную разобрать несколько значений столбца Name и выработать правило для извлечения имен, а также разделения их на женские и мужские."
      ]
    },
    {
      "cell_type": "code",
      "metadata": {
        "colab": {
          "base_uri": "https://localhost:8080/"
        },
        "id": "swpN0IykGVt0",
        "outputId": "4f65d1be-c20f-4f82-d4b1-9b64100f46cc"
      },
      "source": [
        "result = []\n",
        "for index, row in data.iterrows():\n",
        "  str = row[\"Name\"]\n",
        "  import re\n",
        "  arr_miss = str.split(\" \")\n",
        "  arr_mrs = re.split('[ )(]', str)\n",
        "\n",
        "  ind_miss = arr_miss.index(\"Miss.\") if \"Miss.\" in arr_miss else -1\n",
        "  if [\"Mrs.\"] in arr_mrs:\n",
        "    ind_mrs = arr_mrs.index(\"\")\n",
        "  else:\n",
        "    ind_mrs = -1\n",
        "  \n",
        "  if ind_miss != -1:\n",
        "    result.append(arr_miss[ind_miss+1])\n",
        "  \n",
        "  if ind_mrs != -1:\n",
        "    result.append(arr_mrs[ind_mrs+1])\n",
        "\n",
        "#print(result)\n",
        "print(max(a for a in result if result.count(a) == max(map(result.count, result))))\n"
      ],
      "execution_count": null,
      "outputs": [
        {
          "output_type": "stream",
          "name": "stdout",
          "text": [
            "Mary\n"
          ]
        }
      ]
    },
    {
      "cell_type": "code",
      "metadata": {
        "id": "Qtf-U1CWLZio"
      },
      "source": [
        ""
      ],
      "execution_count": null,
      "outputs": []
    },
    {
      "cell_type": "markdown",
      "metadata": {
        "id": "cirutaB5MQ1D"
      },
      "source": [
        "Другой вариант (проще намного):"
      ]
    },
    {
      "cell_type": "code",
      "metadata": {
        "id": "uTxAVcZcMTxr"
      },
      "source": [
        "def clean(name):\n",
        "    name = name.split(',')[1][1:].split(' ')\n",
        "    if ((name[0] == 'Miss.') | (name[0] == 'Ms') ):\n",
        "        return name[1]"
      ],
      "execution_count": 11,
      "outputs": []
    },
    {
      "cell_type": "code",
      "metadata": {
        "colab": {
          "base_uri": "https://localhost:8080/"
        },
        "id": "UEv5NF4pMWOM",
        "outputId": "d87676e2-e020-4872-fadc-25a460d7563a"
      },
      "source": [
        "data['Name'].map(clean).value_counts().head()"
      ],
      "execution_count": 12,
      "outputs": [
        {
          "output_type": "execute_result",
          "data": {
            "text/plain": [
              "Mary         9\n",
              "Anna         9\n",
              "Margaret     6\n",
              "Elizabeth    5\n",
              "Helen        4\n",
              "Name: Name, dtype: int64"
            ]
          },
          "metadata": {},
          "execution_count": 12
        }
      ]
    }
  ]
}